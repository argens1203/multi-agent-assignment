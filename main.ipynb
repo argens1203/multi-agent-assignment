{
 "cells": [
  {
   "cell_type": "code",
   "execution_count": 26,
   "metadata": {},
   "outputs": [],
   "source": [
    "import matplotlib.pyplot as plt\n",
    "import matplotlib.patches as patches\n",
    "from matplotlib.widgets import Button\n",
    "from matplotlib.animation import FuncAnimation\n",
    "from agent import Agent\n",
    "from grid import GridWorld as Environment\n",
    "from IPython.display import HTML\n",
    "\n",
    "class Visualization:\n",
    "    def __init__(self, environment, agent):\n",
    "        self.environment = environment\n",
    "        self.environment.reset()\n",
    "        self.agent = agent\n",
    "        self.fig, self.ax = plt.subplots()\n",
    "        self.update()\n",
    "\n",
    "        # Add button for next step\n",
    "        self.ax_button = plt.axes([0.8, 0.01, 0.1, 0.075])\n",
    "        self.button = Button(self.ax_button, 'Next Step')\n",
    "        self.button.on_clicked(self.next_step)\n",
    "\n",
    "    def draw_grid(self):\n",
    "        self.ax.clear()\n",
    "        size = self.environment.size\n",
    "        for x in range(size):\n",
    "            for y in range(size):\n",
    "                rect = patches.Rectangle((x, y), 1, 1, linewidth=1, edgecolor='black', facecolor='white')\n",
    "                self.ax.add_patch(rect)\n",
    "        self.ax.set_xlim(0, size)\n",
    "        self.ax.set_ylim(size, 0) # Reverse the y-axis\n",
    "        self.ax.set_aspect('equal')\n",
    "\n",
    "        # Draw target\n",
    "        tx, ty = self.environment.B_position\n",
    "        target_patch = patches.Rectangle((tx, ty), 1, 1, linewidth=1, edgecolor='black', facecolor='green')\n",
    "        self.ax.add_patch(target_patch)\n",
    "\n",
    "    def update(self):\n",
    "        self.draw_grid()\n",
    "\n",
    "        # Draw agent\n",
    "        ax, ay = self.agent.get_position()\n",
    "        agent_color = 'blue' if not self.agent.has_item() else 'orange'\n",
    "        agent_patch = patches.Circle((ax + 0.5, ay + 0.5), 0.3, color=agent_color)\n",
    "        self.ax.add_patch(agent_patch)\n",
    "\n",
    "        # Draw item\n",
    "        if not self.agent.has_item():\n",
    "            ix, iy = self.environment.item_position\n",
    "            item_patch = patches.Circle((ix + 0.5, iy + 0.5), 0.2, color='red')\n",
    "            self.ax.add_patch(item_patch)\n",
    "        # Check if the environment is terminal\n",
    "        if self.environment.is_terminal():\n",
    "            self.ax.text(0.5, 0.5, 'Complete', horizontalalignment='center', verticalalignment='center', transform=self.ax.transAxes, fontsize=20, color='red')\n",
    "            self.button.disconnect_events()\n",
    "        self.fig.canvas.draw()\n",
    "\n",
    "    def next_step(self,i):\n",
    "        self.agent.move()\n",
    "        self.update()\n",
    "\n",
    "    def animate(self, i):\n",
    "        if not self.environment.is_terminal():\n",
    "            self.next_step()\n",
    "\n",
    "# if __name__ == \"__main__\":\n",
    "#     env = Environment(size=5)\n",
    "#     agent = Agent(env)\n",
    "#     # visualization = Visualization(env, agent)\n",
    "#     agent.train(2000)\n",
    "#     visualization = Visualization(env, agent)\n",
    "#     # ani = FuncAnimation(visualization.fig, visualization.animate, frames=200, interval=400, repeat=False)\n",
    "#     plt.show()\n"
   ]
  },
  {
   "cell_type": "code",
   "execution_count": 27,
   "metadata": {},
   "outputs": [],
   "source": [
    "env = Environment(size=5)\n",
    "agent = Agent(env)\n",
    "agent.train(2000)"
   ]
  },
  {
   "cell_type": "code",
   "execution_count": 28,
   "metadata": {},
   "outputs": [
    {
     "data": {
      "image/png": "[encoded data removed]",
      "text/plain": [
       "<Figure size 640x480 with 2 Axes>"
      ]
     },
     "metadata": {},
     "output_type": "display_data"
    }
   ],
   "source": [
    "visualization = Visualization(env, agent)\n",
    "# ani = FuncAnimation(visualization.fig, visualization.animate, frames=200, interval=400, repeat=False)\n",
    "plt.show()"
   ]
  },
  {
   "cell_type": "code",
   "execution_count": 30,
   "metadata": {},
   "outputs": [
    {
     "ename": "TypeError",
     "evalue": "Visualization.next_step() missing 1 required positional argument: 'i'",
     "output_type": "error",
     "traceback": [
      "\u001b[0;31m---------------------------------------------------------------------------\u001b[0m",
      "\u001b[0;31mTypeError\u001b[0m                                 Traceback (most recent call last)",
      "Cell \u001b[0;32mIn[30], line 7\u001b[0m\n\u001b[1;32m      5\u001b[0m ani \u001b[38;5;241m=\u001b[39m FuncAnimation(visualization\u001b[38;5;241m.\u001b[39mfig, visualization\u001b[38;5;241m.\u001b[39manimate, frames\u001b[38;5;241m=\u001b[39m\u001b[38;5;241m200\u001b[39m, interval\u001b[38;5;241m=\u001b[39m\u001b[38;5;241m400\u001b[39m, repeat\u001b[38;5;241m=\u001b[39m\u001b[38;5;28;01mFalse\u001b[39;00m)\n\u001b[1;32m      6\u001b[0m \u001b[38;5;66;03m# plt.show()\u001b[39;00m\n\u001b[0;32m----> 7\u001b[0m HTML(\u001b[43mani\u001b[49m\u001b[38;5;241;43m.\u001b[39;49m\u001b[43mto_jshtml\u001b[49m\u001b[43m(\u001b[49m\u001b[38;5;241;43m1\u001b[39;49m\u001b[43m)\u001b[49m)\n",
      "File \u001b[0;32m~/miniconda3/envs/stock/lib/python3.10/site-packages/matplotlib/animation.py:1353\u001b[0m, in \u001b[0;36mAnimation.to_jshtml\u001b[0;34m(self, fps, embed_frames, default_mode)\u001b[0m\n\u001b[1;32m   1349\u001b[0m         path \u001b[38;5;241m=\u001b[39m Path(tmpdir, \u001b[38;5;124m\"\u001b[39m\u001b[38;5;124mtemp.html\u001b[39m\u001b[38;5;124m\"\u001b[39m)\n\u001b[1;32m   1350\u001b[0m         writer \u001b[38;5;241m=\u001b[39m HTMLWriter(fps\u001b[38;5;241m=\u001b[39mfps,\n\u001b[1;32m   1351\u001b[0m                             embed_frames\u001b[38;5;241m=\u001b[39membed_frames,\n\u001b[1;32m   1352\u001b[0m                             default_mode\u001b[38;5;241m=\u001b[39mdefault_mode)\n\u001b[0;32m-> 1353\u001b[0m         \u001b[38;5;28;43mself\u001b[39;49m\u001b[38;5;241;43m.\u001b[39;49m\u001b[43msave\u001b[49m\u001b[43m(\u001b[49m\u001b[38;5;28;43mstr\u001b[39;49m\u001b[43m(\u001b[49m\u001b[43mpath\u001b[49m\u001b[43m)\u001b[49m\u001b[43m,\u001b[49m\u001b[43m \u001b[49m\u001b[43mwriter\u001b[49m\u001b[38;5;241;43m=\u001b[39;49m\u001b[43mwriter\u001b[49m\u001b[43m)\u001b[49m\n\u001b[1;32m   1354\u001b[0m         \u001b[38;5;28mself\u001b[39m\u001b[38;5;241m.\u001b[39m_html_representation \u001b[38;5;241m=\u001b[39m path\u001b[38;5;241m.\u001b[39mread_text()\n\u001b[1;32m   1356\u001b[0m \u001b[38;5;28;01mreturn\u001b[39;00m \u001b[38;5;28mself\u001b[39m\u001b[38;5;241m.\u001b[39m_html_representation\n",
      "File \u001b[0;32m~/miniconda3/envs/stock/lib/python3.10/site-packages/matplotlib/animation.py:1092\u001b[0m, in \u001b[0;36mAnimation.save\u001b[0;34m(self, filename, writer, fps, dpi, codec, bitrate, extra_args, metadata, extra_anim, savefig_kwargs, progress_callback)\u001b[0m\n\u001b[1;32m   1089\u001b[0m \u001b[38;5;28;01mwith\u001b[39;00m writer\u001b[38;5;241m.\u001b[39msaving(\u001b[38;5;28mself\u001b[39m\u001b[38;5;241m.\u001b[39m_fig, filename, dpi), \\\n\u001b[1;32m   1090\u001b[0m      cbook\u001b[38;5;241m.\u001b[39m_setattr_cm(\u001b[38;5;28mself\u001b[39m\u001b[38;5;241m.\u001b[39m_fig\u001b[38;5;241m.\u001b[39mcanvas, _is_saving\u001b[38;5;241m=\u001b[39m\u001b[38;5;28;01mTrue\u001b[39;00m, manager\u001b[38;5;241m=\u001b[39m\u001b[38;5;28;01mNone\u001b[39;00m):\n\u001b[1;32m   1091\u001b[0m     \u001b[38;5;28;01mfor\u001b[39;00m anim \u001b[38;5;129;01min\u001b[39;00m all_anim:\n\u001b[0;32m-> 1092\u001b[0m         \u001b[43manim\u001b[49m\u001b[38;5;241;43m.\u001b[39;49m\u001b[43m_init_draw\u001b[49m\u001b[43m(\u001b[49m\u001b[43m)\u001b[49m  \u001b[38;5;66;03m# Clear the initial frame\u001b[39;00m\n\u001b[1;32m   1093\u001b[0m     frame_number \u001b[38;5;241m=\u001b[39m \u001b[38;5;241m0\u001b[39m\n\u001b[1;32m   1094\u001b[0m     \u001b[38;5;66;03m# TODO: Currently only FuncAnimation has a save_count\u001b[39;00m\n\u001b[1;32m   1095\u001b[0m     \u001b[38;5;66;03m#       attribute. Can we generalize this to all Animations?\u001b[39;00m\n",
      "File \u001b[0;32m~/miniconda3/envs/stock/lib/python3.10/site-packages/matplotlib/animation.py:1749\u001b[0m, in \u001b[0;36mFuncAnimation._init_draw\u001b[0;34m(self)\u001b[0m\n\u001b[1;32m   1741\u001b[0m         warnings\u001b[38;5;241m.\u001b[39mwarn(\n\u001b[1;32m   1742\u001b[0m             \u001b[38;5;124m\"\u001b[39m\u001b[38;5;124mCan not start iterating the frames for the initial draw. \u001b[39m\u001b[38;5;124m\"\u001b[39m\n\u001b[1;32m   1743\u001b[0m             \u001b[38;5;124m\"\u001b[39m\u001b[38;5;124mThis can be caused by passing in a 0 length sequence \u001b[39m\u001b[38;5;124m\"\u001b[39m\n\u001b[0;32m   (...)\u001b[0m\n\u001b[1;32m   1746\u001b[0m             \u001b[38;5;124m\"\u001b[39m\u001b[38;5;124mit may be exhausted due to a previous display or save.\u001b[39m\u001b[38;5;124m\"\u001b[39m\n\u001b[1;32m   1747\u001b[0m         )\n\u001b[1;32m   1748\u001b[0m         \u001b[38;5;28;01mreturn\u001b[39;00m\n\u001b[0;32m-> 1749\u001b[0m     \u001b[38;5;28;43mself\u001b[39;49m\u001b[38;5;241;43m.\u001b[39;49m\u001b[43m_draw_frame\u001b[49m\u001b[43m(\u001b[49m\u001b[43mframe_data\u001b[49m\u001b[43m)\u001b[49m\n\u001b[1;32m   1750\u001b[0m \u001b[38;5;28;01melse\u001b[39;00m:\n\u001b[1;32m   1751\u001b[0m     \u001b[38;5;28mself\u001b[39m\u001b[38;5;241m.\u001b[39m_drawn_artists \u001b[38;5;241m=\u001b[39m \u001b[38;5;28mself\u001b[39m\u001b[38;5;241m.\u001b[39m_init_func()\n",
      "File \u001b[0;32m~/miniconda3/envs/stock/lib/python3.10/site-packages/matplotlib/animation.py:1768\u001b[0m, in \u001b[0;36mFuncAnimation._draw_frame\u001b[0;34m(self, framedata)\u001b[0m\n\u001b[1;32m   1764\u001b[0m     \u001b[38;5;28mself\u001b[39m\u001b[38;5;241m.\u001b[39m_save_seq \u001b[38;5;241m=\u001b[39m \u001b[38;5;28mself\u001b[39m\u001b[38;5;241m.\u001b[39m_save_seq[\u001b[38;5;241m-\u001b[39m\u001b[38;5;28mself\u001b[39m\u001b[38;5;241m.\u001b[39m_save_count:]\n\u001b[1;32m   1766\u001b[0m \u001b[38;5;66;03m# Call the func with framedata and args. If blitting is desired,\u001b[39;00m\n\u001b[1;32m   1767\u001b[0m \u001b[38;5;66;03m# func needs to return a sequence of any artists that were modified.\u001b[39;00m\n\u001b[0;32m-> 1768\u001b[0m \u001b[38;5;28mself\u001b[39m\u001b[38;5;241m.\u001b[39m_drawn_artists \u001b[38;5;241m=\u001b[39m \u001b[38;5;28;43mself\u001b[39;49m\u001b[38;5;241;43m.\u001b[39;49m\u001b[43m_func\u001b[49m\u001b[43m(\u001b[49m\u001b[43mframedata\u001b[49m\u001b[43m,\u001b[49m\u001b[43m \u001b[49m\u001b[38;5;241;43m*\u001b[39;49m\u001b[38;5;28;43mself\u001b[39;49m\u001b[38;5;241;43m.\u001b[39;49m\u001b[43m_args\u001b[49m\u001b[43m)\u001b[49m\n\u001b[1;32m   1770\u001b[0m \u001b[38;5;28;01mif\u001b[39;00m \u001b[38;5;28mself\u001b[39m\u001b[38;5;241m.\u001b[39m_blit:\n\u001b[1;32m   1772\u001b[0m     err \u001b[38;5;241m=\u001b[39m \u001b[38;5;167;01mRuntimeError\u001b[39;00m(\u001b[38;5;124m'\u001b[39m\u001b[38;5;124mThe animation function must return a sequence \u001b[39m\u001b[38;5;124m'\u001b[39m\n\u001b[1;32m   1773\u001b[0m                        \u001b[38;5;124m'\u001b[39m\u001b[38;5;124mof Artist objects.\u001b[39m\u001b[38;5;124m'\u001b[39m)\n",
      "Cell \u001b[0;32mIn[26], line 64\u001b[0m, in \u001b[0;36mVisualization.animate\u001b[0;34m(self, i)\u001b[0m\n\u001b[1;32m     62\u001b[0m \u001b[38;5;28;01mdef\u001b[39;00m \u001b[38;5;21manimate\u001b[39m(\u001b[38;5;28mself\u001b[39m, i):\n\u001b[1;32m     63\u001b[0m     \u001b[38;5;28;01mif\u001b[39;00m \u001b[38;5;129;01mnot\u001b[39;00m \u001b[38;5;28mself\u001b[39m\u001b[38;5;241m.\u001b[39menvironment\u001b[38;5;241m.\u001b[39mis_terminal():\n\u001b[0;32m---> 64\u001b[0m         \u001b[38;5;28;43mself\u001b[39;49m\u001b[38;5;241;43m.\u001b[39;49m\u001b[43mnext_step\u001b[49m\u001b[43m(\u001b[49m\u001b[43m)\u001b[49m\n",
      "\u001b[0;31mTypeError\u001b[0m: Visualization.next_step() missing 1 required positional argument: 'i'"
     ]
    }
   ],
   "source": [
    "# env = Environment(size=5)\n",
    "# agent = Agent(env)\n",
    "\n",
    "# visualization = Visualization(env, agent)\n",
    "ani = FuncAnimation(visualization.fig, visualization.animate, frames=200, interval=400, repeat=False)\n",
    "plt.show()"
   ]
  },
  {
   "cell_type": "code",
   "execution_count": null,
   "metadata": {},
   "outputs": [],
   "source": []
  }
 ],
 "metadata": {
  "kernelspec": {
   "display_name": "stock",
   "language": "python",
   "name": "python3"
  },
  "language_info": {
   "codemirror_mode": {
    "name": "ipython",
    "version": 3
   },
   "file_extension": ".py",
   "mimetype": "text/x-python",
   "name": "python",
   "nbconvert_exporter": "python",
   "pygments_lexer": "ipython3",
   "version": "3.10.13"
  }
 },
 "nbformat": 4,
 "nbformat_minor": 2
}
